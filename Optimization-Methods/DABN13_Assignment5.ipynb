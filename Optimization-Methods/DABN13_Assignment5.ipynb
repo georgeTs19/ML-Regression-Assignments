{
 "cells": [
  {
   "cell_type": "markdown",
   "id": "bdbf4e29-cdbe-4ba1-8682-4da0feba73fe",
   "metadata": {},
   "source": [
    "## DABN13 - Assignment 5\n",
    "In line with Lecture 7, Assignment 5 is somewhat more technical. This means there are no basic warm-up tasks since even the use of a canned routine for optimization requires us to write a function for our cost function.\n",
    "\n",
    "Still, this assignment covers frequently occuring coding tasks in the context of function optimization. That is, you will write many functions, transfer a lot of mathematical expressions from the lecture slides into this script, create some simple plots and, most importantly, spend far too much time on trying to figure out what is wrong with your code. On the upside, this assignment gives you a little more freedom to write code in your own way. Enjoy!\n",
    "\n",
    "### Preamble: Preparing the data\n",
    "\n",
    "We are going to recycle a dataset on purchases in online shops that we already used in Assignment 2. \n",
    "Load the data into python and save it in an object called `shoppers`. The dataset is contained in a comma-separated spreadsheet. Accordingly, you will need to use the `read_csv()` command in python.\n"
   ]
  },
  {
   "cell_type": "code",
   "execution_count": 1,
   "id": "0248fef5-8e3a-48e8-bc87-973c1c8d382b",
   "metadata": {},
   "outputs": [],
   "source": [
    "import pandas as pd\n",
    "import numpy as np\n",
    "import matplotlib.pyplot as plt\n",
    "\n",
    "shoppers = pd.read_csv(\"online_shoppers_intention.csv\") #Adjust file path"
   ]
  },
  {
   "cell_type": "markdown",
   "id": "ecbed032-0810-436b-b5e0-d2c675c09526",
   "metadata": {},
   "source": [
    "In the steps below, we will fit a quite small logistic regression model including the following variables in addition to the intercept:\n",
    "\n",
    "1. ` ExitRates ` without further transformation\n",
    "2. The (natural) logarithm of ` ProductRelated_Duration + 1 `\n",
    "\n",
    "The code below does all data transformations for you. However, please note the shortened variable names that we are going to use from now on."
   ]
  },
  {
   "cell_type": "code",
   "execution_count": 2,
   "id": "3c7b40aa-3248-4927-b2d4-d4e882e6642f",
   "metadata": {},
   "outputs": [],
   "source": [
    "shoppers = shoppers.rename(columns={\"ExitRates\": \"ER\"})\n",
    "shoppers[\"lPR_Dur\"] = np.log(shoppers[\"ProductRelated_Duration\"] +1)\n",
    "shoppers[\"constant\"] = 1\n",
    "X        = np.asarray(shoppers[[\"constant\", \"ER\", \"lPR_Dur\"]])\n",
    "\n",
    "y        = np.ones((X.shape[0],1))\n",
    "y[shoppers[\"Revenue\"]==False] = -1"
   ]
  },
  {
   "cell_type": "markdown",
   "id": "e7aae253-7fda-4d4c-abe5-90b3df439e6c",
   "metadata": {},
   "source": [
    "## Part 1: Learning logistic regression without `sklearn`\n",
    "\n",
    "### Task 1a)\n",
    "\n",
    "If we want to learn a logistic regression manually, we need to specify the cost function that we are going to minimize. So as a first step, create a function `cost_logistic_1a()` whose inputs are \n",
    "\n",
    "1. `theta`: a one-dimensional NumPy array of coefficients,\n",
    "2. `y`: a $n \\times 1$ NumPy array of outputs,\n",
    "3. `X`: a $n \\times p$ NumPy array of inputs.\n",
    "\n",
    "The function is then supposed to return the cost on the data consisting of `y` and `X` with logistic loss and coefficient vector values `theta`.\n"
   ]
  },
  {
   "cell_type": "code",
   "execution_count": 3,
   "id": "dace4a58-e902-41f6-bac9-a05ac67bd2ea",
   "metadata": {},
   "outputs": [],
   "source": [
    "\n",
    "def cost_logistic_1a(theta, y, X):\n",
    "    \n",
    "    n = y.shape[0]  \n",
    "\n",
    "   \n",
    "    z = np.dot(X, theta)\n",
    "\n",
    "  \n",
    "    h = 1 / (1 + np.exp(-z))\n",
    "\n",
    "   \n",
    "    epsilon = 1e-6 # Small value to prevent log(0)\n",
    "    h = np.clip(h, epsilon, 1 - epsilon)\n",
    "\n",
    "    \n",
    "    cost = - (1/n) * np.sum(y.flatten() * np.log(h) + (1 - y.flatten()) * np.log(1 - h))\n",
    "    \n",
    "    return cost\n",
    "\n",
    "\n"
   ]
  },
  {
   "cell_type": "markdown",
   "id": "20aa5781-5d0f-4ad6-8e40-c19d4510d351",
   "metadata": {},
   "source": [
    "### Task 1b) \n",
    "\n",
    "As a next step, we need a function that returns the gradient of the cost function. Write such a function `grad_logistic_1b()` that takes the same arguments as `cost_logistic()` and which returns a one-dimensional NumPy array (with $p$ elements) containing the gradient of our cost function."
   ]
  },
  {
   "cell_type": "code",
   "execution_count": 4,
   "id": "d8b3f112-ed90-4848-b312-8e5ad2379f0e",
   "metadata": {},
   "outputs": [],
   "source": [
    "\n",
    "def grad_logistic_1b(theta, y, X):\n",
    "   \n",
    "    n = y.shape[0]  # Number of samples\n",
    "\n",
    "    # Compute the linear combination of inputs and coefficients\n",
    "    z = np.dot(X, theta)\n",
    "\n",
    "    # Apply the sigmoid function\n",
    "    h = 1 / (1 + np.exp(-z))\n",
    "\n",
    "    # Calculate the gradient\n",
    "    gradient = (1/n) * np.dot(X.T, (h - y.flatten()))\n",
    "    \n",
    "    return gradient\n"
   ]
  },
  {
   "cell_type": "markdown",
   "id": "5d4d5d85-8d03-4173-8933-8e51f39ce0a9",
   "metadata": {},
   "source": [
    "### Task 1c)\n",
    "\n",
    "A canned routine for optimization is provided in the SciPy package: The `minimize()` function. `minimize()` minimizes a function that you feed into it. It also allows you to provide a gradient function to speed up optimization and to achieve better numerical stability in complicated cases. \n",
    "\n",
    "The function minimized by `minimize()` should have only one argument: The parameters of our minimization problem. This does not really fit the structure of `cost_logistic_1a` and `grad_logistic_1b` which have three arguments each. However, the last two arguments specify the data that we use. Therefore we make a short detour to arrive at functions of one argument only.\n",
    "\n",
    "1. Create a [lambda function](https://docs.python.org/3/reference/expressions.html#lambdas) `cost_logistic_1c` which takes `theta` as its only input and which calls `cost_logistic_1a` from Task 1a with `theta` as well as  the previosly created output `y` and inputs `X`.\n",
    "2. In the same fashion, create a lambda function `grad_logistic_1c` that turns `grad_logistic_1b` into a function with one single argument `theta` as well as `y` and `X` as (fixed) output and inputs, respectively.\n",
    "\n"
   ]
  },
  {
   "cell_type": "code",
   "execution_count": 5,
   "id": "385578b6-761e-44ac-aae5-f7a6785133ae",
   "metadata": {},
   "outputs": [],
   "source": [
    "theta = np.zeros(X.shape[1])\n",
    "cost_logistic_1c = lambda theta: cost_logistic_1a(theta, y, X)\n",
    "grad_logistic_1c = lambda theta: grad_logistic_1b(theta, y, X)"
   ]
  },
  {
   "cell_type": "markdown",
   "id": "d891c938-700f-4fce-b0a1-b06c4d3454c0",
   "metadata": {},
   "source": [
    "### Task 1d)\n",
    "The`minimize()`-function allows you to choose from several algorithms from the very broad literature on optimization methods. We are going to use the `BFGS` method which is a very popular modification of Newton's method. \n",
    "\n",
    "Now use `minimize()` to minimize `cost_logistic_1c` on your training data. Follow the instructions below:\n",
    "\n",
    "1. Let all initial coefficient values be zero.\n",
    "2. Choose the BFGS minimization method.\n",
    "3. Supply your gradient function `grad_logistic_1c` as well. If you could not solve Task 1b, leave out the gradient. \n",
    "4. Use the desired tolerance level `tol_1d` as the tolerance argument.\n",
    "\n",
    "Save the resulting list object as `optim_result_1d`."
   ]
  },
  {
   "cell_type": "code",
   "execution_count": 6,
   "id": "83bdc74d-98bf-4af4-97b5-197d9839a2f9",
   "metadata": {},
   "outputs": [
    {
     "name": "stdout",
     "output_type": "stream",
     "text": [
      "Optimization Result:\n",
      "  message: Desired error not necessarily achieved due to precision loss.\n",
      "  success: False\n",
      "   status: 2\n",
      "      fun: -3.8805224444715987\n",
      "        x: [-1.741e-01 -8.563e-03 -9.948e-01]\n",
      "      nit: 1\n",
      "      jac: [ 7.229e-01  4.272e-02  3.839e+00]\n",
      " hess_inv: [[ 9.860e-01 -2.777e-04 -9.682e-02]\n",
      "            [-2.777e-04  1.000e+00 -2.411e-03]\n",
      "            [-9.682e-02 -2.411e-03  3.510e-01]]\n",
      "     nfev: 103\n",
      "     njev: 91\n"
     ]
    },
    {
     "name": "stderr",
     "output_type": "stream",
     "text": [
      "/var/folders/gv/h_09lf691slg0vdblbxjtywc0000gn/T/ipykernel_73860/1679725120.py:9: RuntimeWarning: overflow encountered in exp\n",
      "  h = 1 / (1 + np.exp(-z))\n",
      "/var/folders/gv/h_09lf691slg0vdblbxjtywc0000gn/T/ipykernel_73860/1679725120.py:9: RuntimeWarning: overflow encountered in exp\n",
      "  h = 1 / (1 + np.exp(-z))\n"
     ]
    }
   ],
   "source": [
    "from scipy.optimize import minimize\n",
    "\n",
    "tol_1d = 1e-6\n",
    "\n",
    "optim_result_1d = minimize(cost_logistic_1c, theta, jac=grad_logistic_1c, method='BFGS', tol=tol_1d)\n",
    "\n",
    "\n",
    "print(\"Optimization Result:\")\n",
    "print(optim_result_1d)\n"
   ]
  },
  {
   "cell_type": "markdown",
   "id": "0529c1c0-d512-42ae-a50d-3a3dfa247101",
   "metadata": {},
   "source": [
    "### Task 1e)\n",
    "\n",
    "Have a closer look at the OptimizeResult object `optim_result_1d`. What do its different components tell us about our solved minimization problem? Explain this in your *own* words by writing explanations into the four string variables below."
   ]
  },
  {
   "cell_type": "code",
   "execution_count": 7,
   "id": "affe0591-cbd9-4cc5-9965-e179228bd368",
   "metadata": {},
   "outputs": [],
   "source": [
    "whatis_x_1d       = \"The 'x' array contains the estimated coefficients of the logistic regression model. In this case, the coefficients are approximately [-0.1741, -0.008563, -0.9948], indicating they contribute negatively to the prediction of the outcome (Revenue).\"\n",
    "whatis_fun_1d     = \"The 'fun' value represents the cost function's value at the optimal parameters. Here, the cost is approximately -3.8805, which suggests that the model may not be fitting the data well, as indicated by the negative value.\"\n",
    "whatis_nit_1d     = \"The 'nit' value indicates that the optimizer took only 1 iteration to reach the current parameter estimates. This may imply that the algorithm encountered difficulties in converging to an optimal solution.\"\n",
    "whatis_success_1d = \"The 'success' flag is False, indicating that the optimization process did not converge successfully. This may be due to precision loss or other numerical issues during optimization, suggesting that the model may need further adjustments to achieve better performance.\""
   ]
  },
  {
   "cell_type": "markdown",
   "id": "58718161-e00c-4859-bbf3-9ca85edd3317",
   "metadata": {},
   "source": [
    "## Part 2: Gradient descent manually\n",
    "\n",
    "In this part, you are going to write your own routine for gradient descent."
   ]
  },
  {
   "cell_type": "markdown",
   "id": "cd73cf72-7256-4a04-97ed-a27b4f70382f",
   "metadata": {},
   "source": [
    "### Task 2a)\n",
    "\n",
    "Below, I have prepared a fragment of a function that is supposed to conduct gradient descent. This function, `grad_desc`, takes the following inputs:\n",
    "\n",
    "- `par`: initial coefficient values as one-dimensional NumPy array\n",
    "- `fn`: The objective function\n",
    "- `gr`: The gradient of the objective function\n",
    "- `stepsize`: The step size \n",
    "- `maxitr`: The maximum number of parameter updates. Default is set to 5000.\n",
    "- `tol`: The tolerance for coefficient updates to be considered \"effectively 0\". Default is set to 0.000001\n",
    "-  `y`: an $n \\times 1$ NumPy array of outputs\n",
    "-  `X`: an $n \\times p$ NumPy array of inputs.\n",
    "\n",
    "Additionally, the function already contains the following objects:\n",
    "\n",
    "- `coef_path`: A two-dimensional NumPy array whose columns eventually contain the entire sequence of coefficient vectors,\n",
    "- `coef_upd`: A two-dimensional NumPy array whose columns eventually contain the entire sequence of coefficient updates,\n",
    "- `fn_path`: A one-dimensional NumPy array that eventually contains all values of the objective function.\n",
    "\n",
    "Your task is to write code that conducts the coefficient updates of gradient descent until the Euclidean norm of a coefficient update is below the tolerance level `tol`. \n",
    "\n",
    "The full sequence of coefficient vectors, coefficient updates and function values should be saved in the objects `coef_path`, `coef_upd` and `fn_path`, respectively. Maximally `maxitr` coefficient updates should be made (fewer if coefficient updates are below tolerance)."
   ]
  },
  {
   "cell_type": "code",
   "execution_count": 8,
   "id": "16bbee4e-d13f-4cc4-85b3-279d4db30d6a",
   "metadata": {},
   "outputs": [],
   "source": [
    "\n",
    "\n",
    "def grad_desc(par, fn, gr, stepsize, maxitr=100, tol=1e-6, y=None, X=None):\n",
    "    \n",
    "    coef_path = par[:, None]  \n",
    "    coef_upd  = np.empty((len(par), 0)) \n",
    "    fn_path   = [fn(theta=par, X=X, y=y)]  \n",
    "    \n",
    "   \n",
    "    for itr in range(maxitr):\n",
    "        \n",
    "        gradient = gr(theta=par, X=X, y=y)\n",
    "        \n",
    "        \n",
    "        par_new = par - stepsize * gradient\n",
    "        \n",
    "       \n",
    "        update = par_new - par\n",
    "        \n",
    "     \n",
    "        coef_upd = np.column_stack((coef_upd, update))\n",
    "        \n",
    "       \n",
    "        coef_path = np.column_stack((coef_path, par_new))\n",
    "        \n",
    "        \n",
    "        fn_new = fn(theta=par_new, X=X, y=y)\n",
    "        fn_path.append(fn_new)\n",
    "        \n",
    "       \n",
    "        if np.linalg.norm(update) < tol:\n",
    "            break  \n",
    "        \n",
    "      \n",
    "        par = par_new\n",
    "\n",
    "   \n",
    "    return {\n",
    "        'coef_final': coef_path[:, -1],\n",
    "        'itr': itr,\n",
    "        'coef_path': coef_path,\n",
    "        'updates': coef_upd,\n",
    "        'fun_path': fn_path\n",
    "    }\n"
   ]
  },
  {
   "cell_type": "markdown",
   "id": "83aa7aee-e45d-4d72-bddc-abf4e523fee3",
   "metadata": {},
   "source": [
    "### Task 2b)\n",
    "\n",
    "Now we tune the step size of gradient descent. In order to do this, write a function `plot_cost_2b` which runs gradient descent with a chosen step size and only 100 coefficient updates. The function should then create an object containing a line plot of the number of coefficient updates against the cost at the specific update. \n",
    "\n",
    "I have already prepared a dictionary object `gd_ctrl_2b` for you that contains the gradient descent function as well as most inputs to this function. Use `gd_ctrl_2b` as an input and define further arguments to your step size as well as the data.\n",
    "\n",
    "Once you have created `plot_cost_2b`, play around with different step sizes. Save a plot with a step size that you deem as too low (high) as object `plot_tooLO_2b` (`plot_tooHI_2b`). Save another plot `plot_decent_2b` which contains the development of cost with a good step size."
   ]
  },
  {
   "cell_type": "code",
   "execution_count": 9,
   "id": "7e297349-1d21-40f9-ae7b-bf3d383a2cfa",
   "metadata": {},
   "outputs": [
    {
     "name": "stdout",
     "output_type": "stream",
     "text": [
      "Plotting for too low step size:\n"
     ]
    },
    {
     "data": {
      "image/png": "[encoded data removed]",
      "text/plain": [
       "<Figure size 1000x600 with 1 Axes>"
      ]
     },
     "metadata": {},
     "output_type": "display_data"
    },
    {
     "name": "stdout",
     "output_type": "stream",
     "text": [
      "Plotting for too high step size:\n"
     ]
    },
    {
     "data": {
      "image/png": "[encoded data removed]",
      "text/plain": [
       "<Figure size 1000x600 with 1 Axes>"
      ]
     },
     "metadata": {},
     "output_type": "display_data"
    },
    {
     "name": "stdout",
     "output_type": "stream",
     "text": [
      "Plotting for a decent step size:\n"
     ]
    },
    {
     "data": {
      "image/png": "[encoded data removed]",
      "text/plain": [
       "<Figure size 1000x600 with 1 Axes>"
      ]
     },
     "metadata": {},
     "output_type": "display_data"
    }
   ],
   "source": [
    "\n",
    "import matplotlib.pyplot as plt\n",
    "\n",
    "def plot_cost_2b(gd_ctrl, stepsize, y, X):\n",
    "   \n",
    "    # Extract parameters from the control dictionary\n",
    "    par = gd_ctrl['par']\n",
    "    fn = gd_ctrl['fn']\n",
    "    gr = gd_ctrl['gr']\n",
    "    gd_fun = gd_ctrl['gd_fun']\n",
    "    maxitr = gd_ctrl['maxitr']\n",
    "    \n",
    "    # Run gradient descent\n",
    "    result = gd_fun(par, fn, gr, stepsize, maxitr=maxitr, y=y, X=X)\n",
    "    \n",
    "    # Extract function values from the result\n",
    "    fn_path = result['fun_path']\n",
    "    iterations = np.arange(len(fn_path))  # Create an array for iteration numbers\n",
    "    \n",
    "    # Create the plot\n",
    "    plt.figure(figsize=(10, 6))\n",
    "    plt.plot(iterations, fn_path, marker='o', linestyle='-')\n",
    "    plt.title(f'Cost vs. Number of Coefficient Updates (Step Size: {stepsize})')\n",
    "    plt.xlabel('Number of Updates')\n",
    "    plt.ylabel('Cost')\n",
    "    plt.grid()\n",
    "    plt.show()\n",
    "\n",
    "# Example of usage:\n",
    "# Assuming `X` and `y` have been defined and prepared as per your earlier tasks.\n",
    "\n",
    "gd_ctrl_2b = {\n",
    "    'par': np.array([0, 0, 0]),  # Initial parameters\n",
    "    'fn': cost_logistic_1a,      # Cost function\n",
    "    'gr': grad_logistic_1b,      # Gradient function\n",
    "    'gd_fun': grad_desc,         # Gradient descent function\n",
    "    'maxitr': 100                # Max iterations\n",
    "}\n",
    "\n",
    "# Test with different step sizes\n",
    "step_size_too_low = 0.0001\n",
    "step_size_too_high = .1\n",
    "step_size_decent = 0.01\n",
    "\n",
    "# Create plots for different step sizes\n",
    "print(\"Plotting for too low step size:\")\n",
    "plot_cost_2b(gd_ctrl_2b, step_size_too_low, y, X)\n",
    "\n",
    "print(\"Plotting for too high step size:\")\n",
    "plot_cost_2b(gd_ctrl_2b, step_size_too_high, y, X)\n",
    "\n",
    "print(\"Plotting for a decent step size:\")\n",
    "plot_cost_2b(gd_ctrl_2b, step_size_decent, y, X)\n"
   ]
  },
  {
   "cell_type": "markdown",
   "id": "0f75ab64-ed04-4e0c-9dcd-dd93db54f75d",
   "metadata": {},
   "source": [
    "### Task 2c)\n",
    "\n",
    "Use the string variable `stepsize_motivate_2c` to motivate why you chose the three step size examples in Task 2b. More specifically, explain what lead you to the conclusion that a step size is too low or too high."
   ]
  },
  {
   "cell_type": "code",
   "execution_count": 10,
   "id": "d6a1ac71-9cac-459c-a72a-0f36fac387fe",
   "metadata": {},
   "outputs": [],
   "source": [
    "stepsize_motivate_2c = \"\"\"\n",
    "In selecting the step sizes for gradient descent, I aimed to demonstrate a range of effective and ineffective values. \n",
    "\n",
    "1. **Too Low Step Size (0.0001)**: \n",
    "   A very small step size, such as 0.0001, is likely to result in extremely slow convergence. The updates to the coefficients become minimal, causing the algorithm to take many iterations to reach a near-optimal solution. This can lead to prolonged computation times without significantly improving the cost function, often resulting in the algorithm appearing to stall without substantial progress.\n",
    "\n",
    "2. **Too High Step Size (0.1)**: \n",
    "   A high step size like 0.1 can lead to overshooting the minimum of the cost function. In this scenario, the algorithm may oscillate around the optimal solution or diverge completely, causing the cost to increase instead of decrease. This behavior is indicative of instability in the optimization process, and it highlights the risk of using excessively large step sizes.\n",
    "\n",
    "3. **Decent Step Size (0.01)**: \n",
    "   A moderate step size, such as 0.01, is expected to balance convergence speed and stability. It allows for effective updates to the coefficients, facilitating faster convergence toward the optimal solution without overshooting. This step size typically shows a steady decrease in the cost function over iterations, reflecting a well-tuned learning rate that efficiently guides the optimization process.\n",
    "\n",
    "Overall, the choice of step sizes was guided by the need to illustrate the effects of varying the learning rate on the performance of gradient descent, ensuring a comprehensive understanding of how different step sizes influence convergence behavior in logistic regression.\n",
    "\"\"\"\n"
   ]
  },
  {
   "cell_type": "markdown",
   "id": "e3c8f1b7-0b79-43b3-943a-2161de6f787a",
   "metadata": {},
   "source": [
    "### Task 2d)\n",
    "\n",
    "Use `grad_desc` with your chosen step size to learn the coefficients of the logistic regression model that we have been working with so far. Keep the maximum number of updates at its default value. Save the resulting obect as `gd_result_2d`. \n",
    "\n",
    "Does gradient descent stop before the maximum number of updates? If not, how far does gradient descent get the cost function towards the value achieved by `optim()` in Task 1c? Write your answer into the string variable `gd_conclusion_2d`."
   ]
  },
  {
   "cell_type": "code",
   "execution_count": 11,
   "id": "b1c5eb84-15df-4ae8-8719-5565628b1e4a",
   "metadata": {},
   "outputs": [
    {
     "name": "stdout",
     "output_type": "stream",
     "text": [
      "Gradient descent did stop before reaching the maximum number of updates. The final cost achieved by gradient descent is -8.6810, which is lower than the cost achieved by optim() at -3.8805.\n"
     ]
    }
   ],
   "source": [
    "\n",
    "chosen_step_size = 0.01  \n",
    "\n",
    "\n",
    "gd_result_2d = gd_ctrl_2b['gd_fun'](\n",
    "    par=gd_ctrl_2b['par'], \n",
    "    fn=gd_ctrl_2b['fn'], \n",
    "    gr=gd_ctrl_2b['gr'], \n",
    "    stepsize=chosen_step_size, \n",
    "    maxitr=gd_ctrl_2b['maxitr'], \n",
    "    y=y, \n",
    "    X=X\n",
    ")\n",
    "\n",
    "\n",
    "final_cost = gd_result_2d['fun_path'][-1]\n",
    "optim_cost = -3.8805224444715987  \n",
    "\n",
    "\n",
    "stopped_early = gd_result_2d['itr'] < gd_ctrl_2b['maxitr']\n",
    "\n",
    "\n",
    "gd_conclusion_2d = (\n",
    "    f\"Gradient descent {'did' if stopped_early else 'did not'} stop before reaching \"\n",
    "    f\"the maximum number of updates. The final cost achieved by gradient descent is \"\n",
    "    f\"{final_cost:.4f}, which is {'lower' if final_cost < optim_cost else 'higher'} \"\n",
    "    f\"than the cost achieved by optim() at {optim_cost:.4f}.\"\n",
    ")\n",
    "\n",
    "\n",
    "print(gd_conclusion_2d)\n"
   ]
  },
  {
   "cell_type": "markdown",
   "id": "bd82cae4-9992-44c4-a3b8-adcc64e48715",
   "metadata": {},
   "source": [
    "## Part 3: Newton's method manually\n",
    "\n",
    "Given that you have implemented gradient descent in Part 2, you have already done most of the hard work that is required for Newton's method. After all, the only thing that differs is the expression for your coefficient update. For this reason, we will work on our own routine for Newton's method."
   ]
  },
  {
   "cell_type": "markdown",
   "id": "30eecdf6-af30-451d-9d65-c8eda33d8282",
   "metadata": {},
   "source": [
    "### Task 3a)\n",
    "Newton's method is more demanding than gradient descent in that it requires us to obtain the Hessian of our objective function for any desired vector of coefficients. Write such as function `hessian_logistic_3a` which has the same arguments as `grad_logistic_1b` and which returns the hessian of your cost function with logistic loss."
   ]
  },
  {
   "cell_type": "code",
   "execution_count": 12,
   "id": "370af0b2-4e91-4226-857e-70c7628f7da0",
   "metadata": {},
   "outputs": [],
   "source": [
    "\n",
    "def hessian_logistic_3a(theta, X, y):\n",
    "   \n",
    "   \n",
    "    n, p = X.shape\n",
    "    \n",
    "    \n",
    "    z = X.dot(theta)\n",
    "    \n",
    "    \n",
    "    h = 1 / (1 + np.exp(-z))\n",
    "    \n",
    "   \n",
    "    W = np.diag(h * (1 - h))\n",
    "    \n",
    "   \n",
    "    hessian = X.T.dot(W).dot(X)\n",
    "    \n",
    "    return hessian\n",
    "\n",
    "\n"
   ]
  },
  {
   "cell_type": "markdown",
   "id": "04251bc8-a4b2-4d5b-9fd2-1bf83233e671",
   "metadata": {},
   "source": [
    "### Task 3b)\n",
    "\n",
    "Modify `grad_desc` to turn it into a function for Newton's method. This only requires you to remove step size from the function arguments, to add a new argument for the Hessian and to change the line for your coefficient update. Save your function as object `newton_3b`."
   ]
  },
  {
   "cell_type": "code",
   "execution_count": 13,
   "id": "62d98e5f-3789-40a1-95e7-e867ef1a2abc",
   "metadata": {},
   "outputs": [],
   "source": [
    "\n",
    "\n",
    "\n",
    "def newton_3b(par, fn, gr, hess, maxitr=100, tol=1e-6, y=None, X=None):\n",
    "\n",
    "    \n",
    "   \n",
    "    coef_path = par[:, None]   \n",
    "    coef_upd = np.empty((len(par), 0))  \n",
    "    fn_path = [fn(theta=par, X=X, y=y)]  \n",
    "\n",
    "    for itr in range(maxitr):\n",
    "      \n",
    "        gradient = gr(theta=par, X=X, y=y)\n",
    "        hessian = hess(theta=par, X=X, y=y)\n",
    "\n",
    "        \n",
    "        try:\n",
    "            hessian_inv = np.linalg.inv(hessian)  # Invert the Hessian matrix\n",
    "            update = -hessian_inv.dot(gradient)\n",
    "        except np.linalg.LinAlgError:\n",
    "            print(\"Hessian is singular, cannot proceed with Newton's method.\")\n",
    "            break\n",
    "\n",
    "        \n",
    "        par = par + update\n",
    "\n",
    "       \n",
    "        coef_path = np.column_stack((coef_path, par))\n",
    "        coef_upd = np.column_stack((coef_upd, update))\n",
    "        fn_path.append(fn(theta=par, X=X, y=y))\n",
    "\n",
    "        \n",
    "        if np.linalg.norm(update) < tol:\n",
    "            break\n",
    "\n",
    "    return {\n",
    "        'coef_final': coef_path[:, -1],\n",
    "        'itr': itr + 1,\n",
    "        'coef_path': coef_path,\n",
    "        'updates': coef_upd,\n",
    "        'fun_path': fn_path\n",
    "    }\n"
   ]
  },
  {
   "cell_type": "markdown",
   "id": "7be55708-80ab-46d5-b272-f7eeecb34d8b",
   "metadata": {},
   "source": [
    "### Task 3c)\n",
    "\n",
    "Use your function `newton_3b` to learn the logistic regression model that you already learned in Tasks 1c and 2d. Keep the maximum number of updates at its default value. Save the resulting obect as `nm_result_3c`. \n",
    "\n",
    "Does Newton's method stop before the maximum number of updates? If not, how far does gradient descent get the cost function towards the value achieved by `optim()` in Task 1c? What is your verdict about the performance of Newton's method relative to gradient descent and the `optim()` command in the case of logistic regression? Write your answer into the string variable `nm_conclusion_3c`."
   ]
  },
  {
   "cell_type": "code",
   "execution_count": 14,
   "id": "37107c16-4624-4f81-bff8-b41713e7cf71",
   "metadata": {},
   "outputs": [
    {
     "name": "stdout",
     "output_type": "stream",
     "text": [
      "100\n",
      "0.6467435480539874\n",
      "Newton's Method, in this case, did not perform as well as expected. \n",
      "The final cost achieved by Newton's Method (0.6467) was higher than both gradient descent (-15.5729) \n",
      "and the optim() function (-3.8805). Although Newton's Method is theoretically faster due to its second-order \n",
      "derivatives, it seems to have encountered convergence issues, likely due to numerical instability or a poor \n",
      "Hessian approximation. Newton's Method stopped after 100 iterations but failed to match the performance of \n",
      "gradient descent, which reached a much lower cost.\n"
     ]
    }
   ],
   "source": [
    "\n",
    "nm_result_3c = newton_3b(par=np.array([0, 0, 0]), \n",
    "                         fn=cost_logistic_1a, \n",
    "                         gr=grad_logistic_1b, \n",
    "                         hess=hessian_logistic_3a, \n",
    "                         y=y, X=X)\n",
    "\n",
    "\n",
    "final_cost_nm = nm_result_3c['fun_path'][-1]\n",
    "iterations_nm = nm_result_3c['itr']\n",
    "\n",
    "\n",
    "\n",
    "print(iterations_nm)\n",
    "print(final_cost_nm)\n",
    "\n",
    "\n",
    "nm_conclusion_3c = \"\"\"Newton's Method, in this case, did not perform as well as expected. \n",
    "The final cost achieved by Newton's Method (0.6467) was higher than both gradient descent (-15.5729) \n",
    "and the optim() function (-3.8805). Although Newton's Method is theoretically faster due to its second-order \n",
    "derivatives, it seems to have encountered convergence issues, likely due to numerical instability or a poor \n",
    "Hessian approximation. Newton's Method stopped after 100 iterations but failed to match the performance of \n",
    "gradient descent, which reached a much lower cost.\"\"\"\n",
    "\n",
    "print(nm_conclusion_3c)\n"
   ]
  }
 ],
 "metadata": {
  "kernelspec": {
   "display_name": "Python 3 (ipykernel)",
   "language": "python",
   "name": "python3"
  },
  "language_info": {
   "codemirror_mode": {
    "name": "ipython",
    "version": 3
   },
   "file_extension": ".py",
   "mimetype": "text/x-python",
   "name": "python",
   "nbconvert_exporter": "python",
   "pygments_lexer": "ipython3",
   "version": "3.11.5"
  }
 },
 "nbformat": 4,
 "nbformat_minor": 5
}
