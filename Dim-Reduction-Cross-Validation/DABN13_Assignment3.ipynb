{
 "cells": [
  {
   "cell_type": "markdown",
   "id": "39841810-f6d7-452a-a40c-c6641afceac9",
   "metadata": {},
   "source": [
    "# DABN13 - Assignment 3\n",
    "## Preamble: Forecasting market returns\n",
    "We continue with the problem of forecasting market return that we illustrated in Lecture 5. In order to train the implementation of PCR/PLS, we will replicate our previous results with a slight twist. More specifically, we will choose tuning parameters via cross-validation. Additionally, the training sets used for model evaluation are defined differently. While the example in Lecture 5 defined an expanding window of training sets with fixed starting period, we are going to use a rolling window that moved both the start and end date of the training set.\n",
    "\n",
    "The data for this lab is provided by two csv files. \n",
    "The file *sorted_portfolios100.csv* contains the monthly returns of 100 equally weighted portfolios sorted by size and the book-to-market ratio. The data is taken from Kenneth French's data library and missing values have been inserted. The time period covered is January 1960 until December 2009\n",
    "The file *twelve_month_returns.csv* contains 12-month returns on a value-weighted market portfolio. This series takes moving 12-month sums of returns of the U.S. market factor, as provided on Kenneth French's data library. The entry in row $t$ of the dataset corresponds to the market returns over the months $t+1$ until $t+12$. Accordingly, the first observed value in our sample is the 12-month return over the period February 1960 - January 1961. The last observation covers the period January-December 2010.\n",
    "\n",
    "To begin with the lab, we import both your outcome as well as the 100 predictors into Python using the code below. You might be required to modify the file path."
   ]
  },
  {
   "cell_type": "code",
   "execution_count": 1,
   "id": "4fa68e36-8481-42e3-acba-ad6216c3e3da",
   "metadata": {},
   "outputs": [],
   "source": [
    "import numpy as np\n",
    "import pandas as pd\n",
    "from os import chdir\n",
    "\n",
    "#chdir('??') Adjust directory here\n",
    "portfolios  = pd.read_csv(\"sorted_portfolios100.csv\").iloc[:,1:]\n",
    "mkt_ret_12m = pd.read_csv(\"twelve_month_returns.csv\").iloc[:,1:] \n",
    "\n",
    "mkt_ret_12m_train = mkt_ret_12m.iloc[:540,:]\n",
    "portfolios_train  = portfolios.iloc[:540,:]"
   ]
  },
  {
   "cell_type": "markdown",
   "id": "3e14e838-57d9-47ce-85fe-4bc592a700df",
   "metadata": {},
   "source": [
    "## Part 1: Setting up a PCR pipeline in `sklearn`\n",
    "\n",
    "Principal component regression is not available in scikit-learn as a distinctive learning algorithm. This is no problem because it is the combination of three simple components:\n",
    "\n",
    "1. Standardizing inputs,\n",
    "2. obtaining $k$ principal components from the inputs,\n",
    "3. running a linear regression of the output on the $k$ principal components (and a constant).\n",
    "\n",
    "All three operations above are implemented in sklearn. In order to put them together, we will use the very convenient `Pipeline()` functionality.\n",
    "\n",
    "Pipelines allow us to specify a custom sequence of actions. An existing pipeline can be fit, similar to the specification of a regression model. If we do that, all steps of the pipeline are executed in their specified order.\n",
    "\n",
    "### Task 1a)\n",
    "\n",
    "In this task, we will create and fit a pipeline for PCR. First, we need to specify the three actions mentioned above individually. This can be done by using the `StandardScalar()`, `PCA()` and `LinearRegression()` functions from several `sklearn` modules. I have already written code below to import these functions. Now, please create three objects `stdz_1a`, `PCA_1a` and `lm_1a` which specify\n",
    "\n",
    "1. input standardization,\n",
    "2. PCA with two principal components,\n",
    "3. a linear regression model,\n",
    "\n",
    "respectively.\n",
    "\n",
    "Next, we use the `Pipeline()`-function to define the full sequence of actions that result in PCR. I already prepared the basic structure of the required line of code. All you need is to specify the three steps of our pipeline and to give them suitable names. Please do that and save the resulting object as `pcr_pipe_1a`.\n",
    "\n",
    "Lastly, we can apply the `fit()`-method to `pcr_pipe_1a` to execute the entire pipeline. Do this using `mkt_ret_12m_train`and `portfolios_train` as your output and inputs, respectively. Save the learned model as `pcr_fit_1a`. "
   ]
  },
  {
   "cell_type": "code",
   "execution_count": 2,
   "id": "9720a9ea-1e05-4da6-8151-1b674724d7ce",
   "metadata": {},
   "outputs": [
    {
     "data": {
      "text/html": [
       "<style>#sk-container-id-1 {color: black;}#sk-container-id-1 pre{padding: 0;}#sk-container-id-1 div.sk-toggleable {background-color: white;}#sk-container-id-1 label.sk-toggleable__label {cursor: pointer;display: block;width: 100%;margin-bottom: 0;padding: 0.3em;box-sizing: border-box;text-align: center;}#sk-container-id-1 label.sk-toggleable__label-arrow:before {content: \"▸\";float: left;margin-right: 0.25em;color: #696969;}#sk-container-id-1 label.sk-toggleable__label-arrow:hover:before {color: black;}#sk-container-id-1 div.sk-estimator:hover label.sk-toggleable__label-arrow:before {color: black;}#sk-container-id-1 div.sk-toggleable__content {max-height: 0;max-width: 0;overflow: hidden;text-align: left;background-color: #f0f8ff;}#sk-container-id-1 div.sk-toggleable__content pre {margin: 0.2em;color: black;border-radius: 0.25em;background-color: #f0f8ff;}#sk-container-id-1 input.sk-toggleable__control:checked~div.sk-toggleable__content {max-height: 200px;max-width: 100%;overflow: auto;}#sk-container-id-1 input.sk-toggleable__control:checked~label.sk-toggleable__label-arrow:before {content: \"▾\";}#sk-container-id-1 div.sk-estimator input.sk-toggleable__control:checked~label.sk-toggleable__label {background-color: #d4ebff;}#sk-container-id-1 div.sk-label input.sk-toggleable__control:checked~label.sk-toggleable__label {background-color: #d4ebff;}#sk-container-id-1 input.sk-hidden--visually {border: 0;clip: rect(1px 1px 1px 1px);clip: rect(1px, 1px, 1px, 1px);height: 1px;margin: -1px;overflow: hidden;padding: 0;position: absolute;width: 1px;}#sk-container-id-1 div.sk-estimator {font-family: monospace;background-color: #f0f8ff;border: 1px dotted black;border-radius: 0.25em;box-sizing: border-box;margin-bottom: 0.5em;}#sk-container-id-1 div.sk-estimator:hover {background-color: #d4ebff;}#sk-container-id-1 div.sk-parallel-item::after {content: \"\";width: 100%;border-bottom: 1px solid gray;flex-grow: 1;}#sk-container-id-1 div.sk-label:hover label.sk-toggleable__label {background-color: #d4ebff;}#sk-container-id-1 div.sk-serial::before {content: \"\";position: absolute;border-left: 1px solid gray;box-sizing: border-box;top: 0;bottom: 0;left: 50%;z-index: 0;}#sk-container-id-1 div.sk-serial {display: flex;flex-direction: column;align-items: center;background-color: white;padding-right: 0.2em;padding-left: 0.2em;position: relative;}#sk-container-id-1 div.sk-item {position: relative;z-index: 1;}#sk-container-id-1 div.sk-parallel {display: flex;align-items: stretch;justify-content: center;background-color: white;position: relative;}#sk-container-id-1 div.sk-item::before, #sk-container-id-1 div.sk-parallel-item::before {content: \"\";position: absolute;border-left: 1px solid gray;box-sizing: border-box;top: 0;bottom: 0;left: 50%;z-index: -1;}#sk-container-id-1 div.sk-parallel-item {display: flex;flex-direction: column;z-index: 1;position: relative;background-color: white;}#sk-container-id-1 div.sk-parallel-item:first-child::after {align-self: flex-end;width: 50%;}#sk-container-id-1 div.sk-parallel-item:last-child::after {align-self: flex-start;width: 50%;}#sk-container-id-1 div.sk-parallel-item:only-child::after {width: 0;}#sk-container-id-1 div.sk-dashed-wrapped {border: 1px dashed gray;margin: 0 0.4em 0.5em 0.4em;box-sizing: border-box;padding-bottom: 0.4em;background-color: white;}#sk-container-id-1 div.sk-label label {font-family: monospace;font-weight: bold;display: inline-block;line-height: 1.2em;}#sk-container-id-1 div.sk-label-container {text-align: center;}#sk-container-id-1 div.sk-container {/* jupyter's `normalize.less` sets `[hidden] { display: none; }` but bootstrap.min.css set `[hidden] { display: none !important; }` so we also need the `!important` here to be able to override the default hidden behavior on the sphinx rendered scikit-learn.org. See: https://github.com/scikit-learn/scikit-learn/issues/21755 */display: inline-block !important;position: relative;}#sk-container-id-1 div.sk-text-repr-fallback {display: none;}</style><div id=\"sk-container-id-1\" class=\"sk-top-container\"><div class=\"sk-text-repr-fallback\"><pre>Pipeline(steps=[(&#x27;standardize&#x27;, StandardScaler()), (&#x27;pca&#x27;, PCA(n_components=2)),\n",
       "                (&#x27;linear_model&#x27;, LinearRegression())])</pre><b>In a Jupyter environment, please rerun this cell to show the HTML representation or trust the notebook. <br />On GitHub, the HTML representation is unable to render, please try loading this page with nbviewer.org.</b></div><div class=\"sk-container\" hidden><div class=\"sk-item sk-dashed-wrapped\"><div class=\"sk-label-container\"><div class=\"sk-label sk-toggleable\"><input class=\"sk-toggleable__control sk-hidden--visually\" id=\"sk-estimator-id-1\" type=\"checkbox\" ><label for=\"sk-estimator-id-1\" class=\"sk-toggleable__label sk-toggleable__label-arrow\">Pipeline</label><div class=\"sk-toggleable__content\"><pre>Pipeline(steps=[(&#x27;standardize&#x27;, StandardScaler()), (&#x27;pca&#x27;, PCA(n_components=2)),\n",
       "                (&#x27;linear_model&#x27;, LinearRegression())])</pre></div></div></div><div class=\"sk-serial\"><div class=\"sk-item\"><div class=\"sk-estimator sk-toggleable\"><input class=\"sk-toggleable__control sk-hidden--visually\" id=\"sk-estimator-id-2\" type=\"checkbox\" ><label for=\"sk-estimator-id-2\" class=\"sk-toggleable__label sk-toggleable__label-arrow\">StandardScaler</label><div class=\"sk-toggleable__content\"><pre>StandardScaler()</pre></div></div></div><div class=\"sk-item\"><div class=\"sk-estimator sk-toggleable\"><input class=\"sk-toggleable__control sk-hidden--visually\" id=\"sk-estimator-id-3\" type=\"checkbox\" ><label for=\"sk-estimator-id-3\" class=\"sk-toggleable__label sk-toggleable__label-arrow\">PCA</label><div class=\"sk-toggleable__content\"><pre>PCA(n_components=2)</pre></div></div></div><div class=\"sk-item\"><div class=\"sk-estimator sk-toggleable\"><input class=\"sk-toggleable__control sk-hidden--visually\" id=\"sk-estimator-id-4\" type=\"checkbox\" ><label for=\"sk-estimator-id-4\" class=\"sk-toggleable__label sk-toggleable__label-arrow\">LinearRegression</label><div class=\"sk-toggleable__content\"><pre>LinearRegression()</pre></div></div></div></div></div></div></div>"
      ],
      "text/plain": [
       "Pipeline(steps=[('standardize', StandardScaler()), ('pca', PCA(n_components=2)),\n",
       "                ('linear_model', LinearRegression())])"
      ]
     },
     "execution_count": 2,
     "metadata": {},
     "output_type": "execute_result"
    }
   ],
   "source": [
    "from sklearn.decomposition import PCA\n",
    "from sklearn.preprocessing import StandardScaler\n",
    "from sklearn.linear_model import LinearRegression\n",
    "from sklearn.pipeline import Pipeline\n",
    "\n",
    "stdz_1a = StandardScaler()      # Standardization\n",
    "PCA_1a = PCA(n_components=2)    # PCA with 2 components\n",
    "lm_1a = LinearRegression()      # Linear regression\n",
    "\n",
    "\n",
    "pcr_pipe_1a = Pipeline(steps=[\n",
    "    ('standardize', stdz_1a),\n",
    "    ('pca', PCA_1a),\n",
    "    ('linear_model', lm_1a)\n",
    "])\n",
    "\n",
    "pcr_fit_1a = pcr_pipe_1a.fit(portfolios_train, mkt_ret_12m_train)\n",
    "\n",
    "pcr_fit_1a\n",
    " "
   ]
  },
  {
   "cell_type": "markdown",
   "id": "da61e72f-a56f-417b-aa7b-2755916ee392",
   "metadata": {},
   "source": [
    "### Task 1b)\n",
    "\n",
    "We will now get predictions from our learned principal components regression. However, we'll do that time series style. \n",
    "\n",
    "When we work with time series, our training data consists of historical series from some starting point in the past until today. Our goal is outcome prediction in the immediate future. That is, our test data may simply be a single data point - at least for the model that we trained at one specific point in time. \n",
    "\n",
    "In Task 1a) we used the earliest 540 data points, assuming that this was all our data. Now, we want to get a forecast of data point 541, assuming that this is the immediate future. The more distant future is not of immediate interest for us and we will predict it step-by-step as time passes and more training data appears. \n",
    "\n",
    "Now apply the `predict()` method on `pcr_fit_1a` in order to get a prediction from your model for data point 541 in `portfolios_train` and save it as `pcr_pred_1b`.\n",
    "\n",
    "*Note:* Being able to apply `predict()` to a pipeline is very convenient because we do not have to worry about manual standardization and manual construction of the principal component scores. We simply provide the raw test data point and `sklearn` automatically conducts all necessary transformations. "
   ]
  },
  {
   "cell_type": "code",
   "execution_count": 3,
   "id": "b855678c-c3da-4fe9-b17b-9b54eb1d4f12",
   "metadata": {},
   "outputs": [
    {
     "data": {
      "text/plain": [
       "array([[0.06281893]])"
      ]
     },
     "execution_count": 3,
     "metadata": {},
     "output_type": "execute_result"
    }
   ],
   "source": [
    "portfolios_test_1b = portfolios.iloc[[540], :]  # Taking the row at index 540 for prediction (indexing start=0)\n",
    "\n",
    "# Use the predict method to forecast the next data point\n",
    "pcr_pred_1b = pcr_fit_1a.predict(portfolios_test_1b)\n",
    "\n",
    "pcr_pred_1b\n"
   ]
  },
  {
   "cell_type": "markdown",
   "id": "a4d0a989-1ae2-4f61-b27b-7d079fa4ba3b",
   "metadata": {},
   "source": [
    "## Part 2: Model tuning with `sklearn`\n",
    "\n",
    "Scikit-learn contains very flexible routines for model tuning. The tuning parameter of PCR is the number of principal components to use. We will use the PCR pipeline created in the previous part to choose it via cross-validation."
   ]
  },
  {
   "cell_type": "markdown",
   "id": "7081d11c-d6a4-41a4-b886-bb756404a4a8",
   "metadata": {},
   "source": [
    "### Task 2a)\n",
    "\n",
    "First, we need to define a grid of potential tuning parameter values. This has to be a *dictionary* object in Python which contain arrays with the candidate values for our tuning parameters. The names of the arrays must be identical to the name of the tuning parameter in the corresponding estimator function.\n",
    "\n",
    "Given that we tune the parameters of an entire pipeline, the names of arrays must also point at which part of the pipeline the tuning parameter can be found. To give an example, assume that we want to tune an imaginary parameter `myparam` in a function that included in my pipeline under the name `myfun`. Then, the correspoding array in the dictionary object must have the name `myfun__myparam`. \n",
    "\n",
    "Now create a dictionary object `tune_grid_2a` that contains an array with the integers $1,2,3,4,5$ for the number of principal components to obtain in the PCA-step of your pipeline `pcr_pipe_1a`. "
   ]
  },
  {
   "cell_type": "code",
   "execution_count": 4,
   "id": "f94898ff-5541-45c3-a1be-5b73ef04cde2",
   "metadata": {},
   "outputs": [
    {
     "data": {
      "text/plain": [
       "{'pca__n_components': [1, 2, 3, 4, 5]}"
      ]
     },
     "execution_count": 4,
     "metadata": {},
     "output_type": "execute_result"
    }
   ],
   "source": [
    "tune_grid_2a = {\n",
    "    'pca__n_components': [1, 2, 3, 4, 5]  # Tune the number of principal components in the PCA step\n",
    "}\n",
    "\n",
    "tune_grid_2a\n"
   ]
  },
  {
   "cell_type": "markdown",
   "id": "eb4591ba-668f-4099-95d7-9563f76bb13a",
   "metadata": {},
   "source": [
    "### Task 2b)\n",
    "Next, we must specify how exactly our cross-validation procedure should split the data into training and holdout folds. This is done by specifying a splitter class. \n",
    "\n",
    "Since our ultimate goal is to predict market returns in the immediate future, this goal should be mimicked by our cross-validation splits. Hence, we are using the `TimeSeriesSplit()`-function which defines many splits into historical training data and future test data.\n",
    "\n",
    "Now use `TimeSeriesSplit()` to define an object `cv_splits_2b` which contains a specification of the desired splits. To be specific, we want the following:\n",
    "\n",
    "- Training folds should always consist of 90 data points.\n",
    "- The test fold following the training folds should only contain 1 data point.\n",
    "- We want a total of 450 splits, so that the training fold window moves through the entire length of `mkt_ret_12m_train` and `portfolios_train`.\n",
    "- No gap between training and test folds.\n",
    "\n",
    "Please check the  `TimeSeriesSplit()`-[documentation](https://scikit-learn.org/stable/modules/generated/sklearn.model_selection.TimeSeriesSplit.html#sklearn.model_selection.TimeSeriesSplit) to figure out how to set the function inputs.\n",
    "\n",
    "In addition to that, apply the `split()`-method to `cv_splits_2b` *and* turn the resulting output into a list object that you save as `cv_splits_list_2b`. Use `portfolios` as the `X`-argument of `split()`.\n",
    "\n",
    "Lastly, look at the items inside `cv_splits_list_2b`. They contain the indexes of data points that are part of training and hold-out folds for every split. Use the string variable `split_characterization_2b` to characterize the pattern that you see over your 450 splits."
   ]
  },
  {
   "cell_type": "code",
   "execution_count": 5,
   "id": "fe7fd932-9ecd-4fd3-816d-af4bd011ceec",
   "metadata": {},
   "outputs": [],
   "source": [
    "from sklearn.model_selection import TimeSeriesSplit\n",
    "\n",
    "# 1.\n",
    "cv_splits_2b = TimeSeriesSplit(n_splits=450, max_train_size=90, test_size=1, gap=0)\n",
    "\n",
    "# 2.\n",
    "cv_splits_list_2b = list(cv_splits_2b.split(portfolios_train))\n",
    "\n",
    "# 3.\n",
    "cv_splits_list_2b[:3]  # Display the first 3 splits to characterize the pattern\n",
    "split_characterization_2b = \"It involves a rolling window where the training set consists of the most recent 90 data points, and the test set contains the next single point. With each split, both the training window and test point shift forward by one, repeating this process for 450 splits\"\n"
   ]
  },
  {
   "cell_type": "markdown",
   "id": "9ba1620d-99e3-4c5a-986e-867ca8ac4756",
   "metadata": {},
   "source": [
    "### Task 2c)\n",
    "Tasks 1a, 2a, and 2b provide us with all the components that we need to specify and to execute a cross-valdation based tuning parameter selection.\n",
    "\n",
    "First, use the `GridSearchCV()` function in the `model_selection` module of Scikit-learn to specify the setup for model tuning. To be more specific, we want the following:\n",
    "\n",
    "- We want to tune the model pipeline from Task 1a (don't worry about the number of principal components specified there. It will be overwritten),\n",
    "- we use the grid of tuning parameter values from Task 2a,\n",
    "- cross-validation is conducted based on the splits defined in `cv_splits_2b`,\n",
    "- performance should be evaluated using the (negative) root mean square error.\n",
    "\n",
    "Look up the `GridSearchCV()`-[documentation](https://scikit-learn.org/stable/modules/generated/sklearn.model_selection.GridSearchCV.html) to figure out how to set the function arguments correctly and save the resulting setup for model tuning as `pcr_tune_2c`.\n",
    "\n",
    "Second, run the tuning procedure by applying the `fit()`-method to `pcr_tune_2c`. Use `portfolios_train` and `mkt_ret_12m_train` as inputs and output, respectively.\n"
   ]
  },
  {
   "cell_type": "code",
   "execution_count": 6,
   "id": "155aae81-4a76-40d2-a570-8b6c6747443b",
   "metadata": {},
   "outputs": [
    {
     "data": {
      "text/plain": [
       "({'pca__n_components': 5}, -0.1103078052466239)"
      ]
     },
     "execution_count": 6,
     "metadata": {},
     "output_type": "execute_result"
    }
   ],
   "source": [
    "from sklearn.model_selection import GridSearchCV\n",
    "\n",
    "# 1.\n",
    "pcr_tune_2c = GridSearchCV(\n",
    "    estimator=pcr_pipe_1a,         # The pipeline from Task 1a\n",
    "    param_grid=tune_grid_2a,       # The grid of tuning parameters from Task 2a\n",
    "    cv=cv_splits_2b,               # The TimeSeriesSplit object from Task 2b\n",
    "    scoring='neg_root_mean_squared_error'        # Using (negative) root mean square error as the performance metric\n",
    ")\n",
    "\n",
    "# 2.\n",
    "pcr_tune_2c.fit(portfolios_train, mkt_ret_12m_train)\n",
    "\n",
    "pcr_tune_2c.best_params_, pcr_tune_2c.best_score_\n",
    "\n",
    "\n"
   ]
  },
  {
   "cell_type": "markdown",
   "id": "61ba22e4-8fa8-4375-8e69-1735bdec3917",
   "metadata": {},
   "source": [
    "### Task 2d)\n",
    "\n",
    "`pcr_tune_2c` contains both the optimal tuning parameter value as well as the learned model with this value.  Where inside `pcr_tune_2c` can you find these two objects? Write your specific(!) answer into the string variable `cv_results_2d`.\n",
    "\n",
    "Additionally, extract the `cv_results_` dictionary from `pcr_tune_2c`, which emerges once we applied the `fit()`-method, into a new object called `pcr_tune_details_2d`. Where inside `pcr_tune_details_2d` can we find the estimated cross-validation estimate of test error for the different tuning parameter candidates? Write your answer into the string variable \"test_err_estimates_2d\"."
   ]
  },
  {
   "cell_type": "code",
   "execution_count": 7,
   "id": "c8ea2aba-ced1-4a36-a4b5-3dce49c97595",
   "metadata": {},
   "outputs": [],
   "source": [
    "# 1.\n",
    "cv_results_2d = \"{pcr_tune_2c.best_params_} contains the optimal tuning parameter value and {pcr_tune_2c.best_estimator_} contains the learned model.\"\n",
    "\n",
    "# 2. \n",
    "pcr_tune_details_2d = pcr_tune_2c.cv_results_\n",
    "test_err_estimates_2d = \"The cross-validation estimates of test error (negative RMSE) are stored in pcr_tune_details_2d['mean_test_score'].\""
   ]
  },
  {
   "cell_type": "markdown",
   "id": "4b2f5172-1a08-47ca-b153-1e4192054734",
   "metadata": {},
   "source": [
    "### Task 2e) \n",
    "As an alternative to PCR, we consider PLS for return forecasting. PLS is implemented in `sklearn` in the form of the `PLSRegression()` function. Now do the following:\n",
    "\n",
    "1. Build a pipeline that first standardizes the inputs and then conducts PLS. In the PLS-part, please do not specify the number of PLS directions, but disable variable scaling. Save the pipeline as `pls_pipe_2e`.\n",
    "2. Create a tuning parameter grid that contains $1,2,3,4,5$ PLS directions as candidate values. Save it as `tune_grid_2e`.\n",
    "3. Use `GridSearchCV()` to choose the optiimal number of PLS directions. Use the same setup as in Task 2c. Save the resulting object as `pls_tune_2e` and don't forget to fit this object."
   ]
  },
  {
   "cell_type": "code",
   "execution_count": 8,
   "id": "9500b6d9-b2e6-49ad-9733-2f3dcedc330a",
   "metadata": {},
   "outputs": [
    {
     "name": "stdout",
     "output_type": "stream",
     "text": [
      "Best score (negative RMSE): -0.08389384819142012\n"
     ]
    }
   ],
   "source": [
    "from sklearn.cross_decomposition import PLSRegression\n",
    "\n",
    "# 1.\n",
    "pls_pipe_2e = Pipeline(steps=[\n",
    "    ('standardize', StandardScaler()),   # Standardization\n",
    "    ('pls', PLSRegression(scale=False))  # PLS regression without variable scaling\n",
    "])\n",
    "\n",
    "# 2.\n",
    "tune_grid_2e = {\n",
    "    'pls__n_components': [1, 2, 3, 4, 5]  # Candidate values for number of PLS directions\n",
    "}\n",
    "\n",
    "pls_tune_2e = GridSearchCV(\n",
    "    estimator=pls_pipe_2e,               # The PLS pipeline\n",
    "    param_grid=tune_grid_2e,             # Tuning parameter grid\n",
    "    cv=cv_splits_2b,                     # Time series cross-validation from Task 2b\n",
    "    scoring='neg_root_mean_squared_error'            # Same scoring method: negative RMSE\n",
    ")\n",
    "\n",
    "pls_tune_2e.fit(portfolios_train, mkt_ret_12m_train)\n",
    "\n",
    "pls_tune_2e.best_params_\n",
    "print(\"Best score (negative RMSE):\", pls_tune_2e.best_score_)\n"
   ]
  },
  {
   "cell_type": "markdown",
   "id": "8bb59b47-96d0-4138-891d-80aa11046b28",
   "metadata": {},
   "source": [
    "### Task 2f)\n",
    "Which tuning parameter choices do we get for PCR and PLS? Write your answer into the string variable `tune_best_2g`. Additionally, save the learned models with best tuning parameters as `pcr_fit_tuned_2f` and `pls_fit_tuned_2f`, respectively."
   ]
  },
  {
   "cell_type": "code",
   "execution_count": 9,
   "id": "986fd2ad-2187-42b9-ba7a-592a2cdc4f21",
   "metadata": {},
   "outputs": [
    {
     "data": {
      "text/plain": [
       "\"Best PCR tuning parameter: {'pca__n_components': 5}, Best PLS tuning parameter: {'pls__n_components': 5}\""
      ]
     },
     "execution_count": 9,
     "metadata": {},
     "output_type": "execute_result"
    }
   ],
   "source": [
    "# Extract the best parameter choices for PCR and PLS from the respective GridSearchCV objects\n",
    "tune_best_2g = (\n",
    "    f\"Best PCR tuning parameter: {pcr_tune_2c.best_params_}, \"\n",
    "    f\"Best PLS tuning parameter: {pls_tune_2e.best_params_}\"\n",
    ")\n",
    "\n",
    "# Extract the learned models with the best tuning parameters\n",
    "pcr_fit_tuned_2f = pcr_tune_2c.best_estimator_\n",
    "pls_fit_tuned_2f = pls_tune_2e.best_estimator_\n",
    "\n",
    "tune_best_2g"
   ]
  },
  {
   "cell_type": "markdown",
   "id": "826fe3ac-e338-4b65-91a9-462905b597ab",
   "metadata": {},
   "source": [
    "## Part 3: Comparing two candidate algorithms\n",
    "\n",
    "Part 2 helped us to find the optimal tuning parameter values for both PCR and PLS. However, which of these two (tuned) algorithms is better for forecasting returns? We will find out in this rather difficult part.\n",
    "\n",
    "In order to choose between PCR and PLS, we check how well either of the two procedures predicts the outcomes of data points $541, 542, \\ldots, 600$. We still do this in time-series fashion. That means we use data up to data point 540 to predict data point 541 and move start and end of training and hold-out data to the end of the sample one data point at a time. \n",
    "The data used to train our model is still the 90 data points prior to the test data point."
   ]
  },
  {
   "cell_type": "markdown",
   "id": "d4ed7dcb-3603-48c1-a50a-71e5cc79ab11",
   "metadata": {},
   "source": [
    "### Task 3a)\n",
    "\n",
    "Create a vector `mkt_ret_12m_test` and a matrix `portfolios_test` that we can use for performance evaluation on the last 60 data points of `mkt_ret_12m` and `portfolios`. That is, it must go back long enough in time to include the training data for an output prediction of data point 541."
   ]
  },
  {
   "cell_type": "code",
   "execution_count": 10,
   "id": "a22c43f4-1f69-4fec-a30f-f4fbfb609405",
   "metadata": {},
   "outputs": [
    {
     "name": "stdout",
     "output_type": "stream",
     "text": [
      "Length of mkt_ret_12m_test: 150\n",
      "Length of portfolios_test: 150\n",
      "mkt_ret_12m_test:\n",
      "             x\n",
      "450  0.150247\n",
      "451  0.015484\n",
      "452  0.020479\n",
      "453  0.127247\n",
      "454  0.157453\n",
      "portfolios_test:\n",
      "            V2        V3        V4        V5        V6        V7        V8  \\\n",
      "450 -1.897447 -1.226578 -0.964487 -0.794988 -0.732212 -0.684354 -0.475344   \n",
      "451 -1.962783 -1.267780 -1.011223 -0.834716 -0.772075 -0.723287 -0.499478   \n",
      "452 -2.081374 -1.361274 -1.090722 -0.907412 -0.898315 -0.797082 -0.536030   \n",
      "453 -2.030023 -1.306083 -1.054208 -0.887982 -0.856215 -0.783498 -0.526544   \n",
      "454 -1.933433 -1.240919 -1.006789 -0.834895 -0.816393 -0.774797 -0.484628   \n",
      "\n",
      "           V9       V10       V11  ...       V92       V93       V94  \\\n",
      "450 -0.332921 -0.133040  0.369844  ... -2.347556 -1.649282 -1.325922   \n",
      "451 -0.348673 -0.151086  0.343901  ... -2.264339 -1.572574 -1.274359   \n",
      "452 -0.426822 -0.233785  0.253739  ... -2.311235 -1.620001 -1.323670   \n",
      "453 -0.417913 -0.211740  0.264922  ... -2.299125 -1.569054 -1.256021   \n",
      "454 -0.397260 -0.202741  0.282922  ... -2.343425 -1.638349 -1.311423   \n",
      "\n",
      "          V95       V96       V97       V98       V99      V100      V101  \n",
      "450 -1.111300 -0.982687 -0.808911 -0.658917 -0.482941 -0.182093  0.085872  \n",
      "451 -1.064208 -0.925707 -0.756712 -0.553437 -0.404329 -0.116379  0.106519  \n",
      "452 -1.124355 -0.974542 -0.822754 -0.621288 -0.451651 -0.154223  0.034401  \n",
      "453 -1.088495 -0.942023 -0.800050 -0.662639 -0.417267 -0.106032  0.052067  \n",
      "454 -1.156320 -0.941775 -0.837872 -0.727176 -0.459630 -0.139876  0.057354  \n",
      "\n",
      "[5 rows x 100 columns]\n"
     ]
    }
   ],
   "source": [
    "mkt_ret_12m_test = mkt_ret_12m.iloc[450:,:]\n",
    "portfolios_test  = portfolios.iloc[450:,:]\n",
    "\n",
    "print(\"Length of mkt_ret_12m_test:\", len(mkt_ret_12m_test))\n",
    "print(\"Length of portfolios_test:\", len(portfolios_test))\n",
    "\n",
    "\n",
    "print(\"mkt_ret_12m_test:\\n\", mkt_ret_12m_test.head())\n",
    "print(\"portfolios_test:\\n\", portfolios_test.head())"
   ]
  },
  {
   "cell_type": "markdown",
   "id": "8f22bb4f-3cab-4868-83f5-07fe4fe38ef9",
   "metadata": {},
   "source": [
    "### Task 3b)\n",
    "\n",
    "Use `cross_validate()` in sklearn to evaluate the performance of PCR and PLS with the tuning parameter values that you arrived at in Task 2f. `cross_validate()` conducts cross-validation with specified data and a desired scheme for splitting it without any grid search.\n",
    "\n",
    "First, use `TimeSeriesSplit()`to specify splits into training and holdout folds that contain 90 and 1 data points, respectively. Save this specification as `cv_splits_3a`. The training window should move through the data points in the test data created in Task 3a one data point at a time. The holdout fold of the first split should be the 91st observation. The holdout fold of the last split should be the very last observation in the test data.\n",
    "\n",
    "Second, use `cross_validate()` to estimate the test error of your tuned PCR and PLS algorithms from Task 2f and use root mean squared error to measure accuracy. Save the resulting objects as `pcr_eval_3b` and `pls_eval_3b`, respectively. Check the `cross_val_score()`-[documentation](https://scikit-learn.org/stable/modules/generated/sklearn.model_selection.cross_val_score.html) to get the function inputs right.\n",
    "\n",
    "Third, check which object inside `pcr_eval_3b` or `pcr_eval_3b` contains the root mean squared errors of all holdout folds. Write your answer into the string variable `where_is_rmse_3b`. Since we only have one data point in every holdout fold, the RMSE is identical to the absolute value of our prediction error on the test fold.\n",
    "\n"
   ]
  },
  {
   "cell_type": "code",
   "execution_count": 11,
   "id": "755fdb2f-0795-47d5-925b-4869fd29632a",
   "metadata": {},
   "outputs": [
    {
     "name": "stdout",
     "output_type": "stream",
     "text": [
      "PCR RMSEs: {'fit_time': array([0.01660204, 0.01619601, 0.01576185, 0.01355314, 0.01442194,\n",
      "       0.01190305, 0.00434613, 0.01047492, 0.00655413, 0.01182318,\n",
      "       0.01696801, 0.00792813, 0.01224399, 0.00548697, 0.01052904,\n",
      "       0.00901723, 0.00844383, 0.00680304, 0.00479889, 0.00868487,\n",
      "       0.00328088, 0.00282407, 0.00306678, 0.00654221, 0.00816894,\n",
      "       0.0040071 , 0.00281119, 0.00512314, 0.00270391, 0.01141524,\n",
      "       0.00696921, 0.00330782, 0.00260901, 0.00734019, 0.00800395,\n",
      "       0.0104928 , 0.00898409, 0.00269723, 0.00430298, 0.0037291 ,\n",
      "       0.00269294, 0.00857306, 0.00264716, 0.00264597, 0.00405693,\n",
      "       0.01034117, 0.00665927, 0.00359082, 0.00314188, 0.00416589,\n",
      "       0.00980997, 0.00411797, 0.00253582, 0.00728297, 0.00396514,\n",
      "       0.01383877, 0.00654101, 0.00278497, 0.00392914, 0.01040602]), 'score_time': array([0.00271297, 0.00123119, 0.00085521, 0.00084496, 0.00082994,\n",
      "       0.00083208, 0.00078988, 0.00088787, 0.00082493, 0.00082779,\n",
      "       0.0008781 , 0.00260901, 0.00510788, 0.00335407, 0.00258207,\n",
      "       0.00285888, 0.00259519, 0.00081015, 0.00316596, 0.00213122,\n",
      "       0.00080609, 0.00182676, 0.00078917, 0.00091004, 0.00265503,\n",
      "       0.00077701, 0.00076294, 0.00094795, 0.00158906, 0.00258374,\n",
      "       0.00085187, 0.00093532, 0.00075889, 0.00341487, 0.00240803,\n",
      "       0.00328398, 0.00080109, 0.00335789, 0.00079322, 0.00076795,\n",
      "       0.00242496, 0.00077295, 0.00077796, 0.00075412, 0.00286007,\n",
      "       0.00367999, 0.00078201, 0.00075793, 0.00075603, 0.00075412,\n",
      "       0.00175905, 0.00089383, 0.00075412, 0.00079203, 0.00076485,\n",
      "       0.00315309, 0.00081706, 0.00077009, 0.00140977, 0.00142789]), 'test_score': array([-3.70973713e-05, -2.10424406e-02, -9.55765568e-03, -5.61210305e-02,\n",
      "       -2.18138365e-02, -1.61124181e-01, -7.56539631e-02, -3.79324348e-02,\n",
      "       -2.98607540e-02, -3.02627791e-02, -1.83758016e-02, -2.51326575e-02,\n",
      "       -3.70306541e-03, -7.26392912e-03, -1.76212220e-02, -2.46205994e-04,\n",
      "       -6.69921964e-02, -5.78866803e-02, -6.41361042e-02, -5.22334088e-02,\n",
      "       -8.14181439e-02, -6.90947315e-02, -2.56339222e-03, -1.58033022e-02,\n",
      "       -7.93105089e-02, -8.09104702e-02, -9.75802857e-02, -5.99736440e-02,\n",
      "       -4.48372231e-02, -1.62601046e-01, -6.82465575e-02, -5.41643014e-02,\n",
      "       -1.67571590e-01, -3.73673405e-01, -3.86904004e-01, -3.48064952e-01,\n",
      "       -3.91819721e-01, -4.63198982e-01, -3.48458855e-01, -2.27025032e-01,\n",
      "       -1.36856701e-01, -3.78899880e-01, -2.00707973e-01, -1.93418992e-01,\n",
      "       -2.37900749e-01, -2.81829289e-01, -2.04110797e-01, -1.37646708e-01,\n",
      "       -5.57247923e-02, -6.63068483e-02, -6.17826806e-02, -2.89620909e-02,\n",
      "       -8.85531523e-02, -1.79822145e-01, -4.02168094e-02, -5.35096520e-02,\n",
      "       -1.57657488e-02, -6.27196792e-02, -3.96204120e-02, -9.22726225e-02])}\n",
      "PLS RMSEs: {'fit_time': array([0.00184488, 0.00174212, 0.00175214, 0.00172091, 0.00174713,\n",
      "       0.00171494, 0.00173163, 0.00734973, 0.00188494, 0.00171709,\n",
      "       0.001724  , 0.00170684, 0.0017252 , 0.00465202, 0.00171876,\n",
      "       0.00173306, 0.00172782, 0.00174904, 0.00171685, 0.00172782,\n",
      "       0.00493693, 0.00176287, 0.00186419, 0.00172091, 0.00440073,\n",
      "       0.00443482, 0.00178194, 0.0017643 , 0.0017488 , 0.00175405,\n",
      "       0.0017333 , 0.00435591, 0.00472093, 0.001755  , 0.00174427,\n",
      "       0.00173211, 0.00172877, 0.00523186, 0.00377178, 0.00176907,\n",
      "       0.0017302 , 0.00172901, 0.0017271 , 0.00172496, 0.00172901,\n",
      "       0.00174117, 0.00173283, 0.00280309, 0.0064311 , 0.00305986,\n",
      "       0.00176167, 0.00171709, 0.00173378, 0.006634  , 0.00391006,\n",
      "       0.00173497, 0.00175095, 0.00173593, 0.00174904, 0.00498915]), 'score_time': array([0.00074697, 0.0007329 , 0.00073171, 0.00073123, 0.00072622,\n",
      "       0.00072718, 0.00154114, 0.00392222, 0.0007329 , 0.00072694,\n",
      "       0.00072598, 0.00072908, 0.00072598, 0.00074697, 0.00072503,\n",
      "       0.00072813, 0.00072622, 0.00073075, 0.00073028, 0.00072885,\n",
      "       0.00076103, 0.00073719, 0.00073981, 0.00073004, 0.00308108,\n",
      "       0.00076699, 0.00073719, 0.000736  , 0.00073409, 0.0007329 ,\n",
      "       0.0007329 , 0.00266314, 0.00074291, 0.00073195, 0.00073981,\n",
      "       0.00073004, 0.0007422 , 0.00343704, 0.00073218, 0.00072479,\n",
      "       0.00072002, 0.00074291, 0.00072503, 0.00074387, 0.00072718,\n",
      "       0.00078106, 0.00072908, 0.00575376, 0.00262022, 0.0007391 ,\n",
      "       0.00072718, 0.00072908, 0.00072408, 0.00452399, 0.00073075,\n",
      "       0.00072289, 0.00072503, 0.00072408, 0.00072408, 0.00577283]), 'test_score': array([-0.02656199, -0.05325491, -0.03374616, -0.01225587, -0.04833464,\n",
      "       -0.0383114 , -0.11543804, -0.08493455, -0.0803244 , -0.01352999,\n",
      "       -0.00891774, -0.02499498, -0.02987513, -0.00359941, -0.01967204,\n",
      "       -0.01185219, -0.04413356, -0.00191311, -0.06292001, -0.05224501,\n",
      "       -0.06090633, -0.04482005, -0.02246074, -0.04819248, -0.12087225,\n",
      "       -0.1124723 , -0.12712126, -0.09083584, -0.06924794, -0.10034084,\n",
      "       -0.0801855 , -0.04755319, -0.14916691, -0.27755077, -0.22548365,\n",
      "       -0.12135039, -0.1571891 , -0.18587996, -0.03676986, -0.08244332,\n",
      "       -0.13567738, -0.07583064, -0.16873896, -0.11471086, -0.01247908,\n",
      "       -0.15089963, -0.22119842, -0.1179699 , -0.17179514, -0.21176865,\n",
      "       -0.14542997, -0.07574683, -0.03163362, -0.07582583, -0.0234346 ,\n",
      "       -0.13393535, -0.04010072, -0.0346778 , -0.01829791, -0.03220414])}\n"
     ]
    }
   ],
   "source": [
    "from sklearn.model_selection import cross_validate, TimeSeriesSplit\n",
    "import numpy as np\n",
    "\n",
    "# 1. \n",
    "cv_splits_3b = TimeSeriesSplit(n_splits=60, max_train_size=90, test_size=1)\n",
    "\n",
    "\n",
    "# 2.\n",
    "pcr_eval_3b = cross_validate(\n",
    "    pcr_fit_tuned_2f, \n",
    "    portfolios_test, \n",
    "    mkt_ret_12m_test, \n",
    "    cv=cv_splits_3b, \n",
    "    scoring='neg_root_mean_squared_error'\n",
    ")\n",
    "\n",
    "# Cross-validation for PLS\n",
    "pls_eval_3b = cross_validate(\n",
    "    pls_fit_tuned_2f, \n",
    "    portfolios_test, \n",
    "    mkt_ret_12m_test, \n",
    "    cv=cv_splits_3b, \n",
    "    scoring='neg_root_mean_squared_error'\n",
    ")\n",
    "\n",
    "#3.\n",
    "print(\"PCR RMSEs:\", pcr_eval_3b)\n",
    "print(\"PLS RMSEs:\", pls_eval_3b)\n",
    "\n",
    "\n",
    "\n",
    "where_is_rmse_3b = \"The root mean squared errors are stored in the 'test_score' key of the cross_validate output.\"\n"
   ]
  },
  {
   "cell_type": "markdown",
   "id": "fc8d7659-edf0-450e-bfbc-5226fa8d40b9",
   "metadata": {},
   "source": [
    "### Task 3c)\n",
    "\n",
    "The RMSE provided by `cross_validate()` is hard to interpret if we want to know whether any of the two machine learning algorithms is practically useful at all. A better alternative is out-of-sample R-squared. We define it mathematically as \n",
    "$$\n",
    "  R^2 = 1 - \\frac{ \\sum_{t=t_0}^{T}(y_t - \\hat{y}_t)^2}{ \\sum_{t=t_0}^{T}(y_t -\\bar{y}_{t,-90})^2}.\n",
    "$$\n",
    "Here, \n",
    "\n",
    "- $y_t$ is the observed output at time $t$, \n",
    "- $t_0$ is the time period of the earliest test observation (541 in our case),\n",
    "- $\\hat{y}_t$ is the model prediction of $y_t$ at time $t$,\n",
    "- $\\bar{y}_{t,-90}=90^{-1}\\sum_{\\ell}^{90} y_{t-\\ell}$ is the average outcome of the 90 output values before $t$\n",
    "\n",
    "To construct this R-squared, do the following\n",
    "\n",
    "1. Construct a vector `ymeans_3c` whose element $t$ contains the average of `mkt_ret_12m` from time point $450+t$ to $539+t$. You could apply the `rolling()` method to `mkt_ret_12m_test` or write a for-loop to achieve that.\n",
    "2. Extract the sum of squared prediction error of PLS and PCR over all test folds from `pcr_eval_3b` and `pls_eval_3b`. Save them as numbers `pcr_avg_errsq_3c` and `pls_avg_errsq_3c`, respectively.\n",
    "4. Construct the summed squared prediction error of the historical 90-day average output but using `mkt_ret_12m_test` and `ymeans_3c`. Save the resulting number as `histavg_avg_errsq_3c`.\n",
    "5. Construct out-of-sample R2 for PCR and PLS using the objects created in the previous two steps. Save them as `pcr_R2_oos_3c` and `pls_R2_oos_3c`, respectively.\n",
    "\n",
    "Does PCR outperform PLS or is it the other way around? Does the out-of-sample R-squared suggest that any of the two methods is useful for predicting returns? Motivate your conclusion and express it in the string variable `conclusion_3c`. "
   ]
  },
  {
   "cell_type": "code",
   "execution_count": 12,
   "id": "249b446c-da3c-4764-a34e-5ec25ec6d6c2",
   "metadata": {},
   "outputs": [
    {
     "name": "stdout",
     "output_type": "stream",
     "text": [
      "0.5249668399553811\n",
      "0.8104508971725661\n"
     ]
    }
   ],
   "source": [
    "# 1.\n",
    "ymeans_3c = mkt_ret_12m_test.rolling(window=90).mean().shift(1).iloc[90:, 0].values\n",
    "\n",
    "# 2.\n",
    "pcr_sum_errsq_3c = np.sum(np.square(pcr_eval_3b['test_score']))\n",
    "pls_sum_errsq_3c = np.sum(np.square(pls_eval_3b['test_score']))\n",
    "\n",
    "\n",
    "# 3.\n",
    "hist_avg_errors = mkt_ret_12m_test.iloc[90:, 0].values - ymeans_3c\n",
    "histavg_sum_errsq_3c = np.sum(np.square(hist_avg_errors))\n",
    "\n",
    "# 4.\n",
    "pcr_R2_oos_3c = 1 - (pcr_sum_errsq_3c / histavg_sum_errsq_3c)\n",
    "pls_R2_oos_3c = 1 - (pls_sum_errsq_3c / histavg_sum_errsq_3c)\n",
    "\n",
    "\n",
    "print(pcr_R2_oos_3c)\n",
    "print(pls_R2_oos_3c)\n",
    "\n",
    "conclusion_3c = \"PLS outperforms PCR in predicting returns, as evidenced by the higher out-of-sample R² values (PLS: 0.8104, PCR: 0.5249). Both methods show positive and high R² values, indicating that they are very useful for predicting returns. However, the substantially higher R² for PLS suggests that it captures the underlying patterns in the data more effectively than PCR.\"\n"
   ]
  },
  {
   "cell_type": "markdown",
   "id": "5574b633-7daa-491e-a38d-060d4c17719a",
   "metadata": {},
   "source": [
    "### Part 4: PCR manually\n",
    "\n",
    "In this advanced part, we will repeat Part 1 without using the `pca()`-transformation in scikit-learn. More specifically, we will replace it with matrix operations in Numpy."
   ]
  },
  {
   "cell_type": "markdown",
   "id": "2ee65b5d-b41b-4219-8cca-bf4a4d343d44",
   "metadata": {},
   "source": [
    "### Task 4a)\n",
    "\n",
    "By convention, principal components are obtained from standardized data. In order to do that, we use the `StandardScaler()` function from in scikit-learn that we already made part of the PCR pipeline. \n",
    "Statistical standardization using `StandardScaler()` needs to be first specified and then fit on data. Then it can be used to transform any desired dataset. We will do this now:\n",
    "\n",
    "1. Use `StandardScaler()` to specify and to fit an object that contains sample means and variances of each variable in `portfolios_train`. Save this object as `stdz_X_4a`.\n",
    "2. Apply the `transform()`-method to `stdz_X_4a` to standardize `portfolios_train`. Save the resulting data frame as a two-dimensional *Numpy array* `X_train_stdz_4a`. \n",
    "3. An alternative method for variable scaling would be normalization. Search among the functions [in the preprocessing module](https://scikit-learn.org/stable/modules/classes.html#module-sklearn.preprocessing) of `sklearn` for an equivalent to `StandardScaler()`. Then, conduct the previous two steps using this function. However, when you save objects, use the name `norm_X_4a` instead of `stdz_X_4a` and `X_train_norm_4a` instead of `X_train_stdz_4a`. "
   ]
  },
  {
   "cell_type": "code",
   "execution_count": 13,
   "id": "1c0ecc50-2fcd-4d3e-b62c-89f05308cb28",
   "metadata": {},
   "outputs": [
    {
     "name": "stdout",
     "output_type": "stream",
     "text": [
      "Shape of standarized training data: (540, 100)\n",
      "Shape of normalized training data: (540, 100)\n"
     ]
    }
   ],
   "source": [
    "# 1.\n",
    "stdz_X_4a = StandardScaler().fit(portfolios_train)\n",
    "\n",
    "# 2.\n",
    "X_train_stdz_4a = stdz_X_4a.transform(portfolios_train)\n",
    "\n",
    "# 3.\n",
    "from sklearn.preprocessing import StandardScaler, MinMaxScaler\n",
    "norm_X_4a = MinMaxScaler().fit(portfolios_train)\n",
    "\n",
    "X_train_norm_4a = norm_X_4a.transform(portfolios_train)\n",
    "\n",
    "print(\"Shape of standarized training data:\", X_train_stdz_4a.shape)\n",
    "print(\"Shape of normalized training data:\", X_train_norm_4a.shape)\n",
    "\n"
   ]
  },
  {
   "cell_type": "markdown",
   "id": "bd439360-d6d2-4769-8a1d-f0ceec4eae71",
   "metadata": {},
   "source": [
    "### Task 4b)\n",
    "\n",
    "We can now use the eigendecomposition (a.k.a spectral decomposition) to obtain principal components (PCs). The `eig()`-function in the linear algebra module of NumPy  allows us to obtain a list object containing the eigenvectors and eigenvalues of any square matrix that we feed into `eig()`. Now, we want to construct the scores of the first two principal components. In order to do that, review the slides of Lecture 5 and do the following:\n",
    "\n",
    "1. Use `eig()` to get the loadings of the first two principal components of `X_train_stdz_4a`. Save them as `PCloadings_4b`.\n",
    "2. Use `PCloadings_4b` to construct the scores of the first two PCs of `X_train_stdz_4a` and save them as `PCscores_4b`."
   ]
  },
  {
   "cell_type": "code",
   "execution_count": 14,
   "id": "dee591c3-3f54-41f7-b556-abfcd2f5664c",
   "metadata": {},
   "outputs": [
    {
     "name": "stdout",
     "output_type": "stream",
     "text": [
      "PC Loadings (first two PCs): [[-0.07926133 -0.2124923 ]\n",
      " [-0.08603607 -0.20456677]\n",
      " [-0.10002694 -0.1279695 ]\n",
      " [-0.09671834 -0.13837178]\n",
      " [-0.10309734 -0.10969116]\n",
      " [-0.10513706 -0.08805433]\n",
      " [-0.10458601 -0.09612065]\n",
      " [-0.10490294 -0.10946475]\n",
      " [-0.10728467 -0.12943632]\n",
      " [-0.07597539 -0.24512581]\n",
      " [-0.08889308 -0.19269466]\n",
      " [-0.10167646 -0.1150976 ]\n",
      " [-0.1011247  -0.09226229]\n",
      " [-0.10986611 -0.03557557]\n",
      " [-0.10965348 -0.04592798]\n",
      " [-0.10929553 -0.05145185]\n",
      " [-0.10768856 -0.04981209]\n",
      " [-0.10799659 -0.0430848 ]\n",
      " [-0.10689566 -0.07711481]\n",
      " [-0.08334093 -0.1880725 ]\n",
      " [-0.09169193 -0.14636092]\n",
      " [-0.10134743 -0.0525782 ]\n",
      " [-0.10444474 -0.02404361]\n",
      " [-0.10520473 -0.02689032]\n",
      " [-0.10947391 -0.01761684]\n",
      " [-0.11060091 -0.00940878]\n",
      " [-0.10544335  0.02176844]\n",
      " [-0.10860905 -0.01724113]\n",
      " [-0.1088974  -0.05576594]\n",
      " [-0.07733543 -0.19250444]\n",
      " [-0.10047496 -0.02835878]\n",
      " [-0.09476931 -0.07460696]\n",
      " [-0.10601483  0.01404015]\n",
      " [-0.1084487   0.040879  ]\n",
      " [-0.1063019   0.00665202]\n",
      " [-0.11039002  0.01249573]\n",
      " [-0.10450202  0.00154663]\n",
      " [-0.10534764 -0.03937857]\n",
      " [-0.10382401 -0.04979289]\n",
      " [-0.08647307 -0.15621771]\n",
      " [-0.10278367  0.02066459]\n",
      " [-0.10597612  0.05597993]\n",
      " [-0.1107715   0.02401024]\n",
      " [-0.10594181  0.03831135]\n",
      " [-0.10486884  0.05788467]\n",
      " [-0.1022258   0.02018552]\n",
      " [-0.10782804  0.01838292]\n",
      " [-0.10654787 -0.01786739]\n",
      " [-0.10818328 -0.02937298]\n",
      " [-0.06892416 -0.17579381]\n",
      " [-0.10162509  0.04993989]\n",
      " [-0.11115307  0.02463784]\n",
      " [-0.10962702  0.08424288]\n",
      " [-0.11052658  0.07775601]\n",
      " [-0.10526764  0.05724289]\n",
      " [-0.10570676  0.04451074]\n",
      " [-0.10460735  0.01316024]\n",
      " [-0.10458281 -0.0117937 ]\n",
      " [-0.09787344 -0.10772099]\n",
      " [-0.07414449 -0.06842739]\n",
      " [-0.09833004  0.09076051]\n",
      " [-0.10586182  0.07460043]\n",
      " [-0.10954987  0.07418672]\n",
      " [-0.10796393  0.09471588]\n",
      " [-0.10586979  0.08152948]\n",
      " [-0.10546662  0.05839519]\n",
      " [-0.10613133  0.03358326]\n",
      " [-0.09953766  0.05322985]\n",
      " [-0.09572674 -0.07070075]\n",
      " [-0.068591   -0.2112243 ]\n",
      " [-0.09829089  0.12062402]\n",
      " [-0.10165378  0.16155725]\n",
      " [-0.10471102  0.1017878 ]\n",
      " [-0.10464476  0.10830649]\n",
      " [-0.1042508   0.11219164]\n",
      " [-0.10025999  0.07949311]\n",
      " [-0.10257424  0.00325335]\n",
      " [-0.10385723 -0.00482335]\n",
      " [-0.0973205  -0.05272078]\n",
      " [-0.06405916 -0.15755592]\n",
      " [-0.09321284  0.17875524]\n",
      " [-0.10049196  0.18251892]\n",
      " [-0.10557761  0.1389226 ]\n",
      " [-0.10093373  0.14312869]\n",
      " [-0.10550219  0.10912001]\n",
      " [-0.10050237  0.09704865]\n",
      " [-0.10412798  0.07694508]\n",
      " [-0.10415347  0.02796892]\n",
      " [-0.0976798  -0.02051774]\n",
      " [-0.07733018  0.00974003]\n",
      " [-0.09404234  0.1855695 ]\n",
      " [-0.09791174  0.17095507]\n",
      " [-0.10120467  0.11367019]\n",
      " [-0.08997949  0.15220118]\n",
      " [-0.09292375  0.12611564]\n",
      " [-0.08195182  0.08753221]\n",
      " [-0.08693715  0.03713113]\n",
      " [-0.07503018  0.01556475]\n",
      " [-0.07933982 -0.07354285]\n",
      " [-0.07975106  0.01835332]]\n",
      "PC Scores (first two PCs): [[-3.7806644  -0.83249597]\n",
      " [-3.73954743 -1.00838525]\n",
      " [-4.95959307 -1.5983286 ]\n",
      " ...\n",
      " [10.04178069  0.61183913]\n",
      " [12.11932984  0.95876861]\n",
      " [13.10021366  1.12055054]]\n",
      "Shape of PC Scores: (540, 2)\n"
     ]
    }
   ],
   "source": [
    "\n",
    "# 1.\n",
    "from numpy.linalg import eig\n",
    "eigdecomp_4b  = eig(np.cov(X_train_stdz_4a, rowvar=False))\n",
    "PCloadings_4b = eigdecomp_4b[1][:, :2]  # First two principal components\n",
    "\n",
    "\n",
    "# 2.\n",
    "PCscores_4b = X_train_stdz_4a.dot(PCloadings_4b)\n",
    "\n",
    "\n",
    "print(\"PC Loadings (first two PCs):\", PCloadings_4b)\n",
    "print(\"PC Scores (first two PCs):\", PCscores_4b)\n",
    "print(\"Shape of PC Scores:\", PCscores_4b.shape) "
   ]
  },
  {
   "cell_type": "markdown",
   "id": "26b32ba1-53d3-465f-8aaf-c70c1ec09caf",
   "metadata": {},
   "source": [
    "Proceed with the second step of PCR: \n",
    "\n",
    "1. Create an input matrix `Z_4c` containing `PCscores_4b` and a constant. \n",
    "2. Obtain the learned coefficients for a linear regression model with inputs `Z_4c`, output `mkt_ret_12m_train` and squared error loss. Do this manually using only the `solve()` and `transpose()` commands in NumPy as well as matrix operations. Save the result as `pcr_coefs_4c`."
   ]
  },
  {
   "cell_type": "code",
   "execution_count": 15,
   "id": "59e4a5ab-3f02-4343-887c-dd5e784f7deb",
   "metadata": {},
   "outputs": [
    {
     "data": {
      "text/plain": [
       "array([[ 0.10037935],\n",
       "       [-0.00378116],\n",
       "       [ 0.00865954]])"
      ]
     },
     "execution_count": 15,
     "metadata": {},
     "output_type": "execute_result"
    }
   ],
   "source": [
    "# 1.\n",
    "ones_column = np.ones((PCscores_4b.shape[0], 1))  # Constant (ones) column\n",
    "Z_4c = np.hstack((ones_column, PCscores_4b))  # Concatenate the constant column with PCscores_4b\n",
    "\n",
    "\n",
    "# 2.\n",
    "# The formula for the coefficients is: (Z^T * Z)^(-1) * Z^T * y\n",
    "Z_transpose = Z_4c.T\n",
    "ZtZ = Z_transpose.dot(Z_4c)  # Z^T * Z\n",
    "Zty = Z_transpose.dot(mkt_ret_12m_train)  # Z^T * y\n",
    "pcr_coefs_4c = np.linalg.solve(ZtZ, Zty)  # (Z^T * Z)^(-1) * Z^T * y\n",
    "\n",
    "pcr_coefs_4c"
   ]
  },
  {
   "cell_type": "markdown",
   "id": "ea172854-39a8-4749-b3cb-e5ab479583b8",
   "metadata": {},
   "source": [
    "### Task 4c)\n",
    "\n",
    "Now that we have learned our PCR model, we can get an output prediction for data point 541.\n",
    "\n",
    "1. Transform the 100 portfolio returns in the 451-st data point of `portfolios` using your fitted standardization object from Task 4a. In order to prevent Python from converting this single row of `portfolios` into a Pandas series, you might add *additional* square brackets around the row that you index. Save the resulting $1\\times 100$ NumPy array of standardized inputs as `X_test_4d`.\n",
    "2. Use `PCloadings_4b` to get the PC scores corresponding to the 100 values in `X_test_4d`. Save them, together with a constant, in a $1\\times 3$ NumPy array `Z_test_4d`.\n",
    "3. Get a prediction from the model learned in Task 4c for the input combination `Z_test_4d`. Save this prediction as `pcr_pred_4d`."
   ]
  },
  {
   "cell_type": "code",
   "execution_count": 16,
   "id": "21a82753-5a3d-4b8e-8a22-24ce393192c3",
   "metadata": {},
   "outputs": [
    {
     "name": "stdout",
     "output_type": "stream",
     "text": [
      "PCR Prediction for data point 541 (pcr_pred_4d): [[0.0390604]]\n"
     ]
    }
   ],
   "source": [
    "X_test_4d = stdz_X_4a.transform(portfolios.iloc[[450]])\n",
    "\n",
    "\n",
    "PCscores_test_4d = X_test_4d.dot(PCloadings_4b)\n",
    "\n",
    "\n",
    "Z_test_4d = np.hstack([np.ones((1, 1)), PCscores_test_4d])  \n",
    "\n",
    "\n",
    "pcr_pred_4d = Z_test_4d.dot(pcr_coefs_4c)\n",
    "\n",
    "print(\"PCR Prediction for data point 541 (pcr_pred_4d):\", pcr_pred_4d)"
   ]
  }
 ],
 "metadata": {
  "kernelspec": {
   "display_name": "Python 3 (ipykernel)",
   "language": "python",
   "name": "python3"
  },
  "language_info": {
   "codemirror_mode": {
    "name": "ipython",
    "version": 3
   },
   "file_extension": ".py",
   "mimetype": "text/x-python",
   "name": "python",
   "nbconvert_exporter": "python",
   "pygments_lexer": "ipython3",
   "version": "3.11.5"
  }
 },
 "nbformat": 4,
 "nbformat_minor": 5
}
